{
  "nbformat": 4,
  "nbformat_minor": 0,
  "metadata": {
    "colab": {
      "name": "model_experiment_lightGBM.ipynb",
      "provenance": [],
      "include_colab_link": true
    },
    "kernelspec": {
      "name": "python3",
      "display_name": "Python 3"
    },
    "language_info": {
      "name": "python"
    },
    "widgets": {
      "application/vnd.jupyter.widget-state+json": {
        "5482963be477498ba937433e78043560": {
          "model_module": "@jupyter-widgets/output",
          "model_name": "OutputModel",
          "model_module_version": "1.0.0",
          "state": {
            "_dom_classes": [],
            "_model_module": "@jupyter-widgets/output",
            "_model_module_version": "1.0.0",
            "_model_name": "OutputModel",
            "_view_count": null,
            "_view_module": "@jupyter-widgets/output",
            "_view_module_version": "1.0.0",
            "_view_name": "OutputView",
            "layout": "IPY_MODEL_603169b58c014034acb6846dcd376072",
            "msg_id": "",
            "outputs": [
              {
                "output_type": "display_data",
                "data": {
                  "text/plain": "\u001b[32m⠙\u001b[0m Waiting for authorization\n",
                  "text/html": "<pre style=\"white-space:pre;overflow-x:auto;line-height:normal;font-family:Menlo,'DejaVu Sans Mono',consolas,'Courier New',monospace\"><span style=\"color: #008000; text-decoration-color: #008000\">⠙</span> Waiting for authorization\n</pre>\n"
                },
                "metadata": {}
              }
            ]
          }
        },
        "603169b58c014034acb6846dcd376072": {
          "model_module": "@jupyter-widgets/base",
          "model_name": "LayoutModel",
          "model_module_version": "1.2.0",
          "state": {
            "_model_module": "@jupyter-widgets/base",
            "_model_module_version": "1.2.0",
            "_model_name": "LayoutModel",
            "_view_count": null,
            "_view_module": "@jupyter-widgets/base",
            "_view_module_version": "1.2.0",
            "_view_name": "LayoutView",
            "align_content": null,
            "align_items": null,
            "align_self": null,
            "border": null,
            "bottom": null,
            "display": null,
            "flex": null,
            "flex_flow": null,
            "grid_area": null,
            "grid_auto_columns": null,
            "grid_auto_flow": null,
            "grid_auto_rows": null,
            "grid_column": null,
            "grid_gap": null,
            "grid_row": null,
            "grid_template_areas": null,
            "grid_template_columns": null,
            "grid_template_rows": null,
            "height": null,
            "justify_content": null,
            "justify_items": null,
            "left": null,
            "margin": null,
            "max_height": null,
            "max_width": null,
            "min_height": null,
            "min_width": null,
            "object_fit": null,
            "object_position": null,
            "order": null,
            "overflow": null,
            "overflow_x": null,
            "overflow_y": null,
            "padding": null,
            "right": null,
            "top": null,
            "visibility": null,
            "width": null
          }
        }
      }
    }
  },
  "cells": [
    {
      "cell_type": "markdown",
      "metadata": {
        "id": "view-in-github",
        "colab_type": "text"
      },
      "source": [
        "<a href=\"https://colab.research.google.com/github/abarb2022/Walmart-Recruiting---Store-Sales-Forecasting/blob/main/model_experiment_N-BEATS.ipynb\" target=\"_parent\"><img src=\"https://colab.research.google.com/assets/colab-badge.svg\" alt=\"Open In Colab\"/></a>"
      ]
    },
    {
      "cell_type": "markdown",
      "source": [
        "**Downloading Kaggle data sets directly into Colab**"
      ],
      "metadata": {
        "id": "SyZxTF7lf7jk"
      }
    },
    {
      "cell_type": "markdown",
      "source": [
        "Install the kaggle python library"
      ],
      "metadata": {
        "id": "7lvdgeEMgCoy"
      }
    },
    {
      "cell_type": "code",
      "execution_count": 32,
      "metadata": {
        "colab": {
          "base_uri": "https://localhost:8080/"
        },
        "id": "KlwSaX9akGfG",
        "outputId": "92f9fce6-0e9d-4943-a475-995b66ed66fc"
      },
      "outputs": [
        {
          "output_type": "stream",
          "name": "stdout",
          "text": [
            "Requirement already satisfied: kaggle in /usr/local/lib/python3.11/dist-packages (1.7.4.5)\n",
            "Requirement already satisfied: bleach in /usr/local/lib/python3.11/dist-packages (from kaggle) (6.2.0)\n",
            "Requirement already satisfied: certifi>=14.05.14 in /usr/local/lib/python3.11/dist-packages (from kaggle) (2025.6.15)\n",
            "Requirement already satisfied: charset-normalizer in /usr/local/lib/python3.11/dist-packages (from kaggle) (3.4.2)\n",
            "Requirement already satisfied: idna in /usr/local/lib/python3.11/dist-packages (from kaggle) (3.10)\n",
            "Requirement already satisfied: protobuf in /usr/local/lib/python3.11/dist-packages (from kaggle) (4.25.8)\n",
            "Requirement already satisfied: python-dateutil>=2.5.3 in /usr/local/lib/python3.11/dist-packages (from kaggle) (2.9.0.post0)\n",
            "Requirement already satisfied: python-slugify in /usr/local/lib/python3.11/dist-packages (from kaggle) (8.0.4)\n",
            "Requirement already satisfied: requests in /usr/local/lib/python3.11/dist-packages (from kaggle) (2.32.3)\n",
            "Requirement already satisfied: setuptools>=21.0.0 in /usr/local/lib/python3.11/dist-packages (from kaggle) (75.2.0)\n",
            "Requirement already satisfied: six>=1.10 in /usr/local/lib/python3.11/dist-packages (from kaggle) (1.17.0)\n",
            "Requirement already satisfied: text-unidecode in /usr/local/lib/python3.11/dist-packages (from kaggle) (1.3)\n",
            "Requirement already satisfied: tqdm in /usr/local/lib/python3.11/dist-packages (from kaggle) (4.67.1)\n",
            "Requirement already satisfied: urllib3>=1.15.1 in /usr/local/lib/python3.11/dist-packages (from kaggle) (2.4.0)\n",
            "Requirement already satisfied: webencodings in /usr/local/lib/python3.11/dist-packages (from kaggle) (0.5.1)\n"
          ]
        }
      ],
      "source": [
        "! pip install kaggle"
      ]
    },
    {
      "cell_type": "markdown",
      "source": [
        "Mount the Google drive so you can store your kaggle API credentials for future use"
      ],
      "metadata": {
        "id": "rw0DfSAggHED"
      }
    },
    {
      "cell_type": "code",
      "source": [
        "from google.colab import drive\n",
        "drive.mount('/content/drive')"
      ],
      "metadata": {
        "colab": {
          "base_uri": "https://localhost:8080/"
        },
        "id": "NGineQt7dErh",
        "outputId": "27509d69-b603-4567-c4ea-aeaba3e355a3"
      },
      "execution_count": 33,
      "outputs": [
        {
          "output_type": "stream",
          "name": "stdout",
          "text": [
            "Drive already mounted at /content/drive; to attempt to forcibly remount, call drive.mount(\"/content/drive\", force_remount=True).\n"
          ]
        }
      ]
    },
    {
      "cell_type": "markdown",
      "source": [
        "Make a directory for kaggle at the temporary instance location on Colab drive.\n",
        "\n",
        "Download your kaggle API key (.json file). You can do this by going to your kaggle account page and clicking 'Create new API token' under the API section."
      ],
      "metadata": {
        "id": "Rvmi3WbigOmT"
      }
    },
    {
      "cell_type": "code",
      "source": [
        "! mkdir ~/.kaggle"
      ],
      "metadata": {
        "id": "ZTkKggcylXfa",
        "colab": {
          "base_uri": "https://localhost:8080/"
        },
        "outputId": "66063bb6-6830-429d-afdd-698f2cb69a92"
      },
      "execution_count": 34,
      "outputs": [
        {
          "output_type": "stream",
          "name": "stdout",
          "text": [
            "mkdir: cannot create directory ‘/root/.kaggle’: File exists\n"
          ]
        }
      ]
    },
    {
      "cell_type": "markdown",
      "source": [
        "Upload the json file to Google Drive and then copy to the temporary location."
      ],
      "metadata": {
        "id": "p3N4it0xrFmU"
      }
    },
    {
      "cell_type": "code",
      "source": [
        "!cp /content/drive/MyDrive/ColabNotebooks/kaggle_API_credentials/kaggle.json ~/.kaggle/kaggle.json"
      ],
      "metadata": {
        "id": "IQq6ZMyTrEfO"
      },
      "execution_count": 35,
      "outputs": []
    },
    {
      "cell_type": "markdown",
      "source": [
        "Change the file permissions to read/write to the owner only"
      ],
      "metadata": {
        "id": "p3dHJgtLehrM"
      }
    },
    {
      "cell_type": "code",
      "source": [
        "! chmod 600 ~/.kaggle/kaggle.json"
      ],
      "metadata": {
        "id": "7ncAtrq2lg5F"
      },
      "execution_count": 36,
      "outputs": []
    },
    {
      "cell_type": "markdown",
      "source": [
        "**Competitions and Datasets are the two types of Kaggle data**"
      ],
      "metadata": {
        "id": "Rb3Zm9VMlu3t"
      }
    },
    {
      "cell_type": "markdown",
      "source": [
        "**1. Download competition data**\n",
        "\n",
        "If you get 403 Forbidden error, you need to click 'Late Submission' on the Kaggle page for that competition."
      ],
      "metadata": {
        "id": "OrdSFfGjl3Ud"
      }
    },
    {
      "cell_type": "code",
      "source": [
        "! kaggle competitions download -c walmart-recruiting-store-sales-forecasting"
      ],
      "metadata": {
        "colab": {
          "base_uri": "https://localhost:8080/"
        },
        "id": "C0yNdtoRln8A",
        "outputId": "52101bdf-26e4-4254-b6aa-7dc7bb830c75"
      },
      "execution_count": 37,
      "outputs": [
        {
          "output_type": "stream",
          "name": "stdout",
          "text": [
            "walmart-recruiting-store-sales-forecasting.zip: Skipping, found more recently modified local copy (use --force to force download)\n"
          ]
        }
      ]
    },
    {
      "cell_type": "markdown",
      "source": [
        "Unzip, in case the downloaded file is zipped. Refresh the files on the left hand side to update the view."
      ],
      "metadata": {
        "id": "fRmXZnHghNAz"
      }
    },
    {
      "cell_type": "code",
      "source": [
        "! unzip walmart-recruiting-store-sales-forecasting"
      ],
      "metadata": {
        "colab": {
          "base_uri": "https://localhost:8080/"
        },
        "id": "dAs9oVnNoziL",
        "outputId": "191a284f-c0de-4403-f6e5-5281fbbdf19a"
      },
      "execution_count": 38,
      "outputs": [
        {
          "output_type": "stream",
          "name": "stdout",
          "text": [
            "Archive:  walmart-recruiting-store-sales-forecasting.zip\n",
            "replace features.csv.zip? [y]es, [n]o, [A]ll, [N]one, [r]ename: "
          ]
        }
      ]
    },
    {
      "cell_type": "code",
      "source": [
        "import pandas as pd\n",
        "import numpy as np\n",
        "from sklearn.preprocessing import LabelEncoder\n",
        "from sklearn.metrics import mean_absolute_error\n",
        "import matplotlib.pyplot as plt\n",
        "import seaborn as sns\n",
        "import gc # For garbage collection\n",
        "pd.set_option('display.max_columns', None)\n",
        "pd.set_option('display.width', None)\n",
        "pd.set_option('display.expand_frame_repr', False)"
      ],
      "metadata": {
        "id": "RAb9vK9B7YFb"
      },
      "execution_count": 53,
      "outputs": []
    },
    {
      "cell_type": "code",
      "source": [
        "stores = pd.read_csv('stores.csv')\n",
        "train = pd.read_csv(\"train.csv.zip\")\n",
        "features = pd.read_csv('features.csv.zip')\n",
        "sample = pd.read_csv('sampleSubmission.csv.zip')\n",
        "test = pd.read_csv('test.csv.zip')"
      ],
      "metadata": {
        "id": "255em5G65SWD"
      },
      "execution_count": 54,
      "outputs": []
    },
    {
      "cell_type": "code",
      "source": [
        "# Convert 'Date' columns to datetime objects for easier manipulation\n",
        "train['Date'] = pd.to_datetime(train['Date'])\n",
        "test['Date'] = pd.to_datetime(test['Date'])\n",
        "features['Date'] = pd.to_datetime(features['Date'])\n",
        "\n",
        "# Merge features with train and test data.\n",
        "# Note: 'IsHoliday' is present in both train/test and features.csv.\n",
        "# We'll merge on it to ensure consistency, but if there were discrepancies,\n",
        "# we'd need a more careful merge strategy.\n",
        "train_df = pd.merge(train, features, on=['Store', 'Date', 'IsHoliday'], how='left')\n",
        "test_df = pd.merge(test, features, on=['Store', 'Date', 'IsHoliday'], how='left')\n",
        "\n",
        "# Merge store information\n",
        "train_df = pd.merge(train_df, stores, on='Store', how='left')\n",
        "test_df = pd.merge(test_df, stores, on='Store', how='left')\n",
        "\n",
        "print(\"\\n--- Merged Train Data Head ---\")\n",
        "print(train_df.head())\n",
        "print(\"\\n--- Merged Test Data Head ---\")\n",
        "print(test_df.head())\n",
        "\n",
        "print(\"\\n--- Merged Train Data Info ---\")\n",
        "print(train_df.info())\n",
        "print(\"\\n--- Merged Test Data Info ---\")\n",
        "print(test_df.info())\n",
        "\n",
        "# Free up memory\n",
        "del train, test, features, stores\n",
        "gc.collect()"
      ],
      "metadata": {
        "id": "OFPJWG6V5nZ3",
        "outputId": "3f12e03b-9fd8-4992-b044-a49b6858a868",
        "colab": {
          "base_uri": "https://localhost:8080/"
        }
      },
      "execution_count": 55,
      "outputs": [
        {
          "output_type": "stream",
          "name": "stdout",
          "text": [
            "\n",
            "--- Merged Train Data Head ---\n",
            "   Store  Dept       Date  Weekly_Sales  IsHoliday  Temperature  Fuel_Price  MarkDown1  MarkDown2  MarkDown3  MarkDown4  MarkDown5         CPI  Unemployment Type    Size\n",
            "0      1     1 2010-02-05      24924.50      False        42.31       2.572        NaN        NaN        NaN        NaN        NaN  211.096358         8.106    A  151315\n",
            "1      1     1 2010-02-12      46039.49       True        38.51       2.548        NaN        NaN        NaN        NaN        NaN  211.242170         8.106    A  151315\n",
            "2      1     1 2010-02-19      41595.55      False        39.93       2.514        NaN        NaN        NaN        NaN        NaN  211.289143         8.106    A  151315\n",
            "3      1     1 2010-02-26      19403.54      False        46.63       2.561        NaN        NaN        NaN        NaN        NaN  211.319643         8.106    A  151315\n",
            "4      1     1 2010-03-05      21827.90      False        46.50       2.625        NaN        NaN        NaN        NaN        NaN  211.350143         8.106    A  151315\n",
            "\n",
            "--- Merged Test Data Head ---\n",
            "   Store  Dept       Date  IsHoliday  Temperature  Fuel_Price  MarkDown1  MarkDown2  MarkDown3  MarkDown4  MarkDown5         CPI  Unemployment Type    Size\n",
            "0      1     1 2012-11-02      False        55.32       3.386    6766.44    5147.70      50.82    3639.90    2737.42  223.462779         6.573    A  151315\n",
            "1      1     1 2012-11-09      False        61.24       3.314   11421.32    3370.89      40.28    4646.79    6154.16  223.481307         6.573    A  151315\n",
            "2      1     1 2012-11-16      False        52.92       3.252    9696.28     292.10     103.78    1133.15    6612.69  223.512911         6.573    A  151315\n",
            "3      1     1 2012-11-23       True        56.23       3.211     883.59       4.17   74910.32     209.91     303.32  223.561947         6.573    A  151315\n",
            "4      1     1 2012-11-30      False        52.34       3.207    2460.03        NaN    3838.35     150.57    6966.34  223.610984         6.573    A  151315\n",
            "\n",
            "--- Merged Train Data Info ---\n",
            "<class 'pandas.core.frame.DataFrame'>\n",
            "RangeIndex: 421570 entries, 0 to 421569\n",
            "Data columns (total 16 columns):\n",
            " #   Column        Non-Null Count   Dtype         \n",
            "---  ------        --------------   -----         \n",
            " 0   Store         421570 non-null  int64         \n",
            " 1   Dept          421570 non-null  int64         \n",
            " 2   Date          421570 non-null  datetime64[ns]\n",
            " 3   Weekly_Sales  421570 non-null  float64       \n",
            " 4   IsHoliday     421570 non-null  bool          \n",
            " 5   Temperature   421570 non-null  float64       \n",
            " 6   Fuel_Price    421570 non-null  float64       \n",
            " 7   MarkDown1     150681 non-null  float64       \n",
            " 8   MarkDown2     111248 non-null  float64       \n",
            " 9   MarkDown3     137091 non-null  float64       \n",
            " 10  MarkDown4     134967 non-null  float64       \n",
            " 11  MarkDown5     151432 non-null  float64       \n",
            " 12  CPI           421570 non-null  float64       \n",
            " 13  Unemployment  421570 non-null  float64       \n",
            " 14  Type          421570 non-null  object        \n",
            " 15  Size          421570 non-null  int64         \n",
            "dtypes: bool(1), datetime64[ns](1), float64(10), int64(3), object(1)\n",
            "memory usage: 48.6+ MB\n",
            "None\n",
            "\n",
            "--- Merged Test Data Info ---\n",
            "<class 'pandas.core.frame.DataFrame'>\n",
            "RangeIndex: 115064 entries, 0 to 115063\n",
            "Data columns (total 15 columns):\n",
            " #   Column        Non-Null Count   Dtype         \n",
            "---  ------        --------------   -----         \n",
            " 0   Store         115064 non-null  int64         \n",
            " 1   Dept          115064 non-null  int64         \n",
            " 2   Date          115064 non-null  datetime64[ns]\n",
            " 3   IsHoliday     115064 non-null  bool          \n",
            " 4   Temperature   115064 non-null  float64       \n",
            " 5   Fuel_Price    115064 non-null  float64       \n",
            " 6   MarkDown1     114915 non-null  float64       \n",
            " 7   MarkDown2     86437 non-null   float64       \n",
            " 8   MarkDown3     105235 non-null  float64       \n",
            " 9   MarkDown4     102176 non-null  float64       \n",
            " 10  MarkDown5     115064 non-null  float64       \n",
            " 11  CPI           76902 non-null   float64       \n",
            " 12  Unemployment  76902 non-null   float64       \n",
            " 13  Type          115064 non-null  object        \n",
            " 14  Size          115064 non-null  int64         \n",
            "dtypes: bool(1), datetime64[ns](1), float64(9), int64(3), object(1)\n",
            "memory usage: 12.4+ MB\n",
            "None\n"
          ]
        },
        {
          "output_type": "execute_result",
          "data": {
            "text/plain": [
              "26"
            ]
          },
          "metadata": {},
          "execution_count": 55
        }
      ]
    },
    {
      "cell_type": "code",
      "source": [
        "import pandas as pd\n",
        "import numpy as np\n",
        "import torch\n",
        "import torch.nn as nn\n",
        "import torch.optim as optim\n",
        "from torch.utils.data import Dataset, DataLoader\n",
        "from sklearn.preprocessing import StandardScaler, LabelEncoder\n",
        "from sklearn.metrics import mean_absolute_error, mean_squared_error\n",
        "import matplotlib.pyplot as plt\n",
        "import seaborn as sns\n",
        "import warnings\n",
        "from sklearn.base import BaseEstimator, TransformerMixin\n",
        "warnings.filterwarnings('ignore')\n",
        "\n",
        "# Set random seeds for reproducibility\n",
        "np.random.seed(42)\n",
        "torch.manual_seed(42)"
      ],
      "metadata": {
        "colab": {
          "base_uri": "https://localhost:8080/"
        },
        "id": "xWF9hReAgwk4",
        "outputId": "f0ca7fbe-df01-4b72-f9c8-284f1c00a7a0"
      },
      "execution_count": 56,
      "outputs": [
        {
          "output_type": "execute_result",
          "data": {
            "text/plain": [
              "<torch._C.Generator at 0x7d4c59bc7b90>"
            ]
          },
          "metadata": {},
          "execution_count": 56
        }
      ]
    },
    {
      "cell_type": "code",
      "source": [
        "device = torch.device('cuda' if torch.cuda.is_available() else 'cpu')\n",
        "print(f\"Using device: {device}\")"
      ],
      "metadata": {
        "colab": {
          "base_uri": "https://localhost:8080/"
        },
        "id": "n61eRLSjg9Bo",
        "outputId": "52e3273a-7ec2-4cdd-b16e-9b7787cd7bdf"
      },
      "execution_count": 57,
      "outputs": [
        {
          "output_type": "stream",
          "name": "stdout",
          "text": [
            "Using device: cpu\n"
          ]
        }
      ]
    },
    {
      "cell_type": "code",
      "source": [
        "class WalmartDataset(Dataset):\n",
        "    \"\"\"Custom dataset for Walmart sales data with support for weights\"\"\"\n",
        "    def __init__(self, X, y, weights=None, lookback_window=52):\n",
        "        self.X = torch.FloatTensor(X)  # Features (e.g., normalized sales)\n",
        "        self.y = torch.FloatTensor(y)  # Targets (e.g., next week's sales)\n",
        "        self.weights = torch.FloatTensor(weights) if weights is not None else None\n",
        "        self.lookback_window = lookback_window\n",
        "\n",
        "        # Validate shapes\n",
        "        if len(self.X) != len(self.y):\n",
        "            raise ValueError(\"X and y must have the same length\")\n",
        "        if self.weights is not None and len(self.weights) != len(self.y):\n",
        "            raise ValueError(\"weights must match the length of y\")\n",
        "        if len(self.X) < self.lookback_window:\n",
        "            raise ValueError(f\"Not enough samples for lookback_window={lookback_window}\")\n",
        "\n",
        "    def __len__(self):\n",
        "        return max(0, len(self.X) - self.lookback_window)\n",
        "\n",
        "    def __getitem__(self, idx):\n",
        "        x = self.X[idx : idx + self.lookback_window]\n",
        "        y = self.y[idx + self.lookback_window]\n",
        "\n",
        "        if self.weights is not None:\n",
        "            w = self.weights[idx + self.lookback_window]\n",
        "            return x, y, w\n",
        "        else:\n",
        "            return x, y"
      ],
      "metadata": {
        "id": "-fG1O6T8g92L"
      },
      "execution_count": 58,
      "outputs": []
    },
    {
      "cell_type": "code",
      "source": [
        "class NBeatsBlock(nn.Module):\n",
        "    \"\"\"Single N-BEATS block\"\"\"\n",
        "    def __init__(self, input_size, theta_size, basis_function, layers, layer_size):\n",
        "        super().__init__()\n",
        "        self.input_size = input_size\n",
        "        self.theta_size = theta_size\n",
        "        self.basis_function = basis_function\n",
        "\n",
        "        # Fully connected layers\n",
        "        self.fc_layers = nn.ModuleList()\n",
        "        self.fc_layers.append(nn.Linear(input_size, layer_size))\n",
        "        for _ in range(layers - 1):\n",
        "            self.fc_layers.append(nn.Linear(layer_size, layer_size))\n",
        "\n",
        "        # Theta layer\n",
        "        self.theta_layer = nn.Linear(layer_size, theta_size)\n",
        "\n",
        "        # Basis functions\n",
        "        if basis_function == 'generic':\n",
        "            self.backcast_basis = nn.Linear(theta_size, input_size)\n",
        "            self.forecast_basis = nn.Linear(theta_size, 1)  # Forecasting 1 step ahead\n",
        "\n",
        "    def forward(self, x):\n",
        "        # Forward through fully connected layers\n",
        "        for layer in self.fc_layers:\n",
        "            x = torch.relu(layer(x))\n",
        "\n",
        "        # Get theta\n",
        "        theta = self.theta_layer(x)\n",
        "\n",
        "        # Generate backcast and forecast\n",
        "        if self.basis_function == 'generic':\n",
        "            backcast = self.backcast_basis(theta)\n",
        "            forecast = self.forecast_basis(theta)\n",
        "\n",
        "        return backcast, forecast"
      ],
      "metadata": {
        "id": "Ab9q_qAkhCQz"
      },
      "execution_count": 59,
      "outputs": []
    },
    {
      "cell_type": "code",
      "source": [
        "class NBeatsNet(nn.Module):\n",
        "    \"\"\"N-BEATS neural network\"\"\"\n",
        "    def __init__(self, input_size, stacks=2, blocks_per_stack=3, layers=4, layer_size=256, theta_size=16):\n",
        "        super().__init__()\n",
        "        self.input_size = input_size\n",
        "        self.stacks = stacks\n",
        "        self.blocks_per_stack = blocks_per_stack\n",
        "\n",
        "        # Create blocks\n",
        "        self.blocks = nn.ModuleList()\n",
        "        for stack in range(stacks):\n",
        "            for block in range(blocks_per_stack):\n",
        "                self.blocks.append(\n",
        "                    NBeatsBlock(\n",
        "                        input_size=input_size,\n",
        "                        theta_size=theta_size,\n",
        "                        basis_function='generic',\n",
        "                        layers=layers,\n",
        "                        layer_size=layer_size\n",
        "                    )\n",
        "                )\n",
        "\n",
        "    def forward(self, x):\n",
        "        # Flatten the input for processing\n",
        "        batch_size = x.shape[0]\n",
        "        x = x.view(batch_size, -1)  # Flatten to (batch_size, input_size)\n",
        "\n",
        "        residual = x\n",
        "        forecast = torch.zeros(batch_size, 1, device=x.device)\n",
        "\n",
        "        for block in self.blocks:\n",
        "            backcast, block_forecast = block(residual)\n",
        "            residual = residual - backcast\n",
        "            forecast = forecast + block_forecast\n",
        "\n",
        "        return forecast"
      ],
      "metadata": {
        "id": "T-rrbedLhLvS"
      },
      "execution_count": 60,
      "outputs": []
    },
    {
      "cell_type": "code",
      "source": [
        "class MissingValueImputer(BaseEstimator, TransformerMixin):\n",
        "    \"\"\"\n",
        "    Custom Transformer to handle missing values for specific columns.\n",
        "    - MarkDown columns: fill with 0.\n",
        "    - Other specified numerical columns: fill with ffill then bfill, fallback to mean.\n",
        "    \"\"\"\n",
        "    def __init__(self, markdown_cols=None, numerical_cols_to_impute=None):\n",
        "        self.markdown_cols = markdown_cols if markdown_cols is not None else [f'MarkDown{i}' for i in range(1, 6)]\n",
        "        self.numerical_cols_to_impute = numerical_cols_to_impute if numerical_cols_to_impute is not None else ['Temperature', 'Fuel_Price', 'CPI', 'Unemployment']\n",
        "        self.means = {} # To store means for fallback imputation during transform\n",
        "\n",
        "    def fit(self, X, y=None):\n",
        "        # Calculate means for fallback imputation from the training data\n",
        "        for col in self.numerical_cols_to_impute:\n",
        "            if col in X.columns:\n",
        "                self.means[col] = X[col].mean()\n",
        "        return self\n",
        "\n",
        "    def transform(self, X):\n",
        "        X_copy = X.copy()\n",
        "\n",
        "\n",
        "        for col in self.markdown_cols:\n",
        "          if col in X_copy.columns:\n",
        "            X_copy[f\"{col}_was_missing\"] = X_copy[col].isna().astype(int)\n",
        "            X_copy[col] = X_copy[col].fillna(0)\n",
        "\n",
        "\n",
        "        # Impute other numerical columns with ffill then bfill, fallback to mean\n",
        "        for col in self.numerical_cols_to_impute:\n",
        "            if col in X_copy.columns:\n",
        "                X_copy[col] = X_copy[col].fillna(method='ffill').fillna(method='bfill')\n",
        "                # Fallback to mean if NaNs still exist (e.g., if all values were NaN in a column)\n",
        "                if X_copy[col].isnull().any() and col in self.means:\n",
        "                    X_copy[col] = X_copy[col].fillna(self.means[col])\n",
        "        return X_copy"
      ],
      "metadata": {
        "id": "Mmtm1jALocJ0"
      },
      "execution_count": 61,
      "outputs": []
    },
    {
      "cell_type": "code",
      "source": [
        "class NBEATSLabelEncoder(BaseEstimator, TransformerMixin):\n",
        "    \"\"\"\n",
        "    Custom Transformer to encode categorical features.\n",
        "    N-BEATS works better with label-encoded categoricals than pandas categories.\n",
        "    \"\"\"\n",
        "    def __init__(self, categorical_cols=None):\n",
        "        self.categorical_cols = categorical_cols if categorical_cols is not None else ['Store', 'Dept', 'Type']\n",
        "        self.label_encoders = {}\n",
        "\n",
        "    def fit(self, X, y=None):\n",
        "        for col in self.categorical_cols:\n",
        "            if col in X.columns:\n",
        "                self.label_encoders[col] = LabelEncoder()\n",
        "                self.label_encoders[col].fit(X[col].astype(str))\n",
        "        return self\n",
        "\n",
        "    def transform(self, X):\n",
        "        X_copy = X.copy()\n",
        "        for col in self.categorical_cols:\n",
        "            if col in X_copy.columns and col in self.label_encoders:\n",
        "                # Handle unseen categories by using a default value\n",
        "                X_copy[col] = X_copy[col].astype(str)\n",
        "                known_categories = set(self.label_encoders[col].classes_)\n",
        "                X_copy[col] = X_copy[col].apply(lambda x: x if x in known_categories else 'unknown')\n",
        "\n",
        "                # Add 'unknown' to encoder if needed\n",
        "                if 'unknown' not in self.label_encoders[col].classes_:\n",
        "                    current_classes = list(self.label_encoders[col].classes_)\n",
        "                    current_classes.append('unknown')\n",
        "                    self.label_encoders[col].classes_ = np.array(current_classes)\n",
        "\n",
        "                X_copy[col] = self.label_encoders[col].transform(X_copy[col])\n",
        "        return X_copy"
      ],
      "metadata": {
        "id": "qLp89Z-PodN_"
      },
      "execution_count": 62,
      "outputs": []
    },
    {
      "cell_type": "code",
      "source": [
        "from sklearn.model_selection import train_test_split\n",
        "from sklearn.pipeline import Pipeline\n",
        "\n",
        "preprocessing_pipeline = Pipeline([\n",
        "    ('missing_value_imputer', MissingValueImputer()),\n",
        "    ('label_encoder', NBEATSLabelEncoder())\n",
        "])\n",
        "\n",
        "print(\"Preparing training data...\")\n",
        "X_train = train_df.drop(['Weekly_Sales'], axis=1)\n",
        "y_train = train_df['Weekly_Sales']\n",
        "\n",
        "print(\"\\n--- Applying Preprocessing Pipeline to Train Data ---\")\n",
        "X_train_processed = preprocessing_pipeline.fit_transform(X_train, y_train)\n",
        "X_train_processed['Weekly_Sales'] = y_train.values\n",
        "\n",
        "print(\"\\n--- Applying Preprocessing Pipeline to Test Data ---\")\n",
        "# For the test set, we only call transform, as fit was done on the training data.\n",
        "X_test_processed = preprocessing_pipeline.transform(test_df.drop(columns=['Id'], errors='ignore'))\n",
        "\n",
        "\n",
        "print(\"\\nProcessed X_train_processed info:\")\n",
        "print(X_train_processed.info())\n",
        "print(\"\\nProcessed X_test_processed info:\")\n",
        "print(X_test_processed.info())\n",
        "\n",
        "# Verify no missing values in processed data\n",
        "print(\"\\nMissing values in processed X_train_processed:\\n\", X_train_processed.isnull().sum().sum())\n",
        "print(\"Missing values in processed X_test_processed:\\n\", X_test_processed.isnull().sum().sum())"
      ],
      "metadata": {
        "colab": {
          "base_uri": "https://localhost:8080/"
        },
        "id": "YCf0xgfJIESZ",
        "outputId": "d6169c87-f151-441a-c6db-07cfab22032b"
      },
      "execution_count": 63,
      "outputs": [
        {
          "output_type": "stream",
          "name": "stdout",
          "text": [
            "Preparing training data...\n",
            "\n",
            "--- Applying Preprocessing Pipeline to Train Data ---\n",
            "\n",
            "--- Applying Preprocessing Pipeline to Test Data ---\n",
            "\n",
            "Processed X_train_processed info:\n",
            "<class 'pandas.core.frame.DataFrame'>\n",
            "RangeIndex: 421570 entries, 0 to 421569\n",
            "Data columns (total 21 columns):\n",
            " #   Column                 Non-Null Count   Dtype         \n",
            "---  ------                 --------------   -----         \n",
            " 0   Store                  421570 non-null  int64         \n",
            " 1   Dept                   421570 non-null  int64         \n",
            " 2   Date                   421570 non-null  datetime64[ns]\n",
            " 3   IsHoliday              421570 non-null  bool          \n",
            " 4   Temperature            421570 non-null  float64       \n",
            " 5   Fuel_Price             421570 non-null  float64       \n",
            " 6   MarkDown1              421570 non-null  float64       \n",
            " 7   MarkDown2              421570 non-null  float64       \n",
            " 8   MarkDown3              421570 non-null  float64       \n",
            " 9   MarkDown4              421570 non-null  float64       \n",
            " 10  MarkDown5              421570 non-null  float64       \n",
            " 11  CPI                    421570 non-null  float64       \n",
            " 12  Unemployment           421570 non-null  float64       \n",
            " 13  Type                   421570 non-null  int64         \n",
            " 14  Size                   421570 non-null  int64         \n",
            " 15  MarkDown1_was_missing  421570 non-null  int64         \n",
            " 16  MarkDown2_was_missing  421570 non-null  int64         \n",
            " 17  MarkDown3_was_missing  421570 non-null  int64         \n",
            " 18  MarkDown4_was_missing  421570 non-null  int64         \n",
            " 19  MarkDown5_was_missing  421570 non-null  int64         \n",
            " 20  Weekly_Sales           421570 non-null  float64       \n",
            "dtypes: bool(1), datetime64[ns](1), float64(10), int64(9)\n",
            "memory usage: 64.7 MB\n",
            "None\n",
            "\n",
            "Processed X_test_processed info:\n",
            "<class 'pandas.core.frame.DataFrame'>\n",
            "RangeIndex: 115064 entries, 0 to 115063\n",
            "Data columns (total 20 columns):\n",
            " #   Column                 Non-Null Count   Dtype         \n",
            "---  ------                 --------------   -----         \n",
            " 0   Store                  115064 non-null  int64         \n",
            " 1   Dept                   115064 non-null  int64         \n",
            " 2   Date                   115064 non-null  datetime64[ns]\n",
            " 3   IsHoliday              115064 non-null  bool          \n",
            " 4   Temperature            115064 non-null  float64       \n",
            " 5   Fuel_Price             115064 non-null  float64       \n",
            " 6   MarkDown1              115064 non-null  float64       \n",
            " 7   MarkDown2              115064 non-null  float64       \n",
            " 8   MarkDown3              115064 non-null  float64       \n",
            " 9   MarkDown4              115064 non-null  float64       \n",
            " 10  MarkDown5              115064 non-null  float64       \n",
            " 11  CPI                    115064 non-null  float64       \n",
            " 12  Unemployment           115064 non-null  float64       \n",
            " 13  Type                   115064 non-null  int64         \n",
            " 14  Size                   115064 non-null  int64         \n",
            " 15  MarkDown1_was_missing  115064 non-null  int64         \n",
            " 16  MarkDown2_was_missing  115064 non-null  int64         \n",
            " 17  MarkDown3_was_missing  115064 non-null  int64         \n",
            " 18  MarkDown4_was_missing  115064 non-null  int64         \n",
            " 19  MarkDown5_was_missing  115064 non-null  int64         \n",
            "dtypes: bool(1), datetime64[ns](1), float64(9), int64(9)\n",
            "memory usage: 16.8 MB\n",
            "None\n",
            "\n",
            "Missing values in processed X_train_processed:\n",
            " 0\n",
            "Missing values in processed X_test_processed:\n",
            " 0\n"
          ]
        }
      ]
    },
    {
      "cell_type": "code",
      "source": [
        "\n",
        "validation_cutoff_date = pd.to_datetime('2012-09-01')\n",
        "\n",
        "# Sort by date\n",
        "single_series_df = train_df.copy()\n",
        "single_series_df = single_series_df.sort_values([\"Store\", \"Dept\", \"Date\"])\n",
        "\n",
        "# Use the same cutoff\n",
        "train_series = single_series_df[single_series_df[\"Date\"] < validation_cutoff_date]\n",
        "val_series = single_series_df[single_series_df[\"Date\"] >= validation_cutoff_date]\n",
        "\n",
        "# Normalize based on training only\n",
        "sales_mean = train_series[\"Weekly_Sales\"].mean()\n",
        "sales_std = train_series[\"Weekly_Sales\"].std()\n",
        "\n",
        "train_sales = (train_series[\"Weekly_Sales\"].values - sales_mean) / sales_std\n",
        "val_sales = (val_series[\"Weekly_Sales\"].values - sales_mean) / sales_std  # normalize using train stats\n",
        "\n",
        "# Prepare dataset\n",
        "lookback_window = 52\n",
        "X_train = train_sales.reshape(-1, 1)\n",
        "y_train = train_sales.reshape(-1)\n",
        "\n",
        "X_val = val_sales.reshape(-1, 1)\n",
        "y_val = val_sales.reshape(-1)\n",
        "\n",
        "def weighted_mean_absolute_error(y_true, y_pred, weights):\n",
        "    return np.sum(weights * np.abs(y_true - y_pred)) / np.sum(weights)\n",
        "\n",
        "val_weights = np.where(val_series['IsHoliday'] == 1, 5, 1)\n",
        "train_weights_split = np.where(train_series['IsHoliday'] == 1, 5, 1)\n",
        "\n",
        "train_dataset = WalmartDataset(\n",
        "    X_train,\n",
        "    y_train,\n",
        "    weights=train_weights_split,  # Pass weights here\n",
        "    lookback_window=lookback_window\n",
        ")\n",
        "\n",
        "val_dataset = WalmartDataset(\n",
        "    X_val,\n",
        "    y_val,\n",
        "    weights=val_weights,  # Pass weights here\n",
        "    lookback_window=lookback_window\n",
        ")\n",
        "\n",
        "# Create DataLoaders\n",
        "train_loader = DataLoader(train_dataset, batch_size=32, shuffle=True)\n",
        "val_loader = DataLoader(val_dataset, batch_size=32, shuffle=False)"
      ],
      "metadata": {
        "id": "U1ow-8b8xLm1"
      },
      "execution_count": 64,
      "outputs": []
    },
    {
      "cell_type": "code",
      "source": [
        "%pip install -q dagshub\n"
      ],
      "metadata": {
        "id": "nRj0MDGdJcdV"
      },
      "execution_count": 65,
      "outputs": []
    },
    {
      "cell_type": "code",
      "source": [
        "!pip install mlflow==2.7.1"
      ],
      "metadata": {
        "id": "Slx50n63bsZY",
        "outputId": "0b86c816-b8a2-40d9-e35e-3983b7a92190",
        "colab": {
          "base_uri": "https://localhost:8080/"
        }
      },
      "execution_count": 29,
      "outputs": [
        {
          "output_type": "stream",
          "name": "stdout",
          "text": [
            "Requirement already satisfied: mlflow==2.7.1 in /usr/local/lib/python3.11/dist-packages (2.7.1)\n",
            "Requirement already satisfied: click<9,>=7.0 in /usr/local/lib/python3.11/dist-packages (from mlflow==2.7.1) (8.2.1)\n",
            "Requirement already satisfied: cloudpickle<3 in /usr/local/lib/python3.11/dist-packages (from mlflow==2.7.1) (2.2.1)\n",
            "Requirement already satisfied: databricks-cli<1,>=0.8.7 in /usr/local/lib/python3.11/dist-packages (from mlflow==2.7.1) (0.18.0)\n",
            "Requirement already satisfied: entrypoints<1 in /usr/local/lib/python3.11/dist-packages (from mlflow==2.7.1) (0.4)\n",
            "Requirement already satisfied: gitpython<4,>=2.1.0 in /usr/local/lib/python3.11/dist-packages (from mlflow==2.7.1) (3.1.44)\n",
            "Requirement already satisfied: pyyaml<7,>=5.1 in /usr/local/lib/python3.11/dist-packages (from mlflow==2.7.1) (6.0.2)\n",
            "Requirement already satisfied: protobuf<5,>=3.12.0 in /usr/local/lib/python3.11/dist-packages (from mlflow==2.7.1) (4.25.8)\n",
            "Requirement already satisfied: pytz<2024 in /usr/local/lib/python3.11/dist-packages (from mlflow==2.7.1) (2023.4)\n",
            "Requirement already satisfied: requests<3,>=2.17.3 in /usr/local/lib/python3.11/dist-packages (from mlflow==2.7.1) (2.32.3)\n",
            "Requirement already satisfied: packaging<24 in /usr/local/lib/python3.11/dist-packages (from mlflow==2.7.1) (23.2)\n",
            "Requirement already satisfied: importlib-metadata!=4.7.0,<7,>=3.7.0 in /usr/local/lib/python3.11/dist-packages (from mlflow==2.7.1) (6.11.0)\n",
            "Requirement already satisfied: sqlparse<1,>=0.4.0 in /usr/local/lib/python3.11/dist-packages (from mlflow==2.7.1) (0.5.3)\n",
            "Requirement already satisfied: alembic!=1.10.0,<2 in /usr/local/lib/python3.11/dist-packages (from mlflow==2.7.1) (1.16.2)\n",
            "Requirement already satisfied: docker<7,>=4.0.0 in /usr/local/lib/python3.11/dist-packages (from mlflow==2.7.1) (6.1.3)\n",
            "Requirement already satisfied: Flask<3 in /usr/local/lib/python3.11/dist-packages (from mlflow==2.7.1) (2.3.3)\n",
            "Requirement already satisfied: numpy<2 in /usr/local/lib/python3.11/dist-packages (from mlflow==2.7.1) (1.26.4)\n",
            "Requirement already satisfied: scipy<2 in /usr/local/lib/python3.11/dist-packages (from mlflow==2.7.1) (1.15.3)\n",
            "Requirement already satisfied: pandas<3 in /usr/local/lib/python3.11/dist-packages (from mlflow==2.7.1) (2.2.2)\n",
            "Requirement already satisfied: querystring-parser<2 in /usr/local/lib/python3.11/dist-packages (from mlflow==2.7.1) (1.2.4)\n",
            "Requirement already satisfied: sqlalchemy<3,>=1.4.0 in /usr/local/lib/python3.11/dist-packages (from mlflow==2.7.1) (2.0.41)\n",
            "Requirement already satisfied: scikit-learn<2 in /usr/local/lib/python3.11/dist-packages (from mlflow==2.7.1) (1.6.1)\n",
            "Requirement already satisfied: pyarrow<14,>=4.0.0 in /usr/local/lib/python3.11/dist-packages (from mlflow==2.7.1) (13.0.0)\n",
            "Requirement already satisfied: markdown<4,>=3.3 in /usr/local/lib/python3.11/dist-packages (from mlflow==2.7.1) (3.8.2)\n",
            "Requirement already satisfied: matplotlib<4 in /usr/local/lib/python3.11/dist-packages (from mlflow==2.7.1) (3.10.0)\n",
            "Requirement already satisfied: gunicorn<22 in /usr/local/lib/python3.11/dist-packages (from mlflow==2.7.1) (21.2.0)\n",
            "Requirement already satisfied: Jinja2<4,>=2.11 in /usr/local/lib/python3.11/dist-packages (from mlflow==2.7.1) (3.1.6)\n",
            "Requirement already satisfied: Mako in /usr/lib/python3/dist-packages (from alembic!=1.10.0,<2->mlflow==2.7.1) (1.1.3)\n",
            "Requirement already satisfied: typing-extensions>=4.12 in /usr/local/lib/python3.11/dist-packages (from alembic!=1.10.0,<2->mlflow==2.7.1) (4.14.0)\n",
            "Requirement already satisfied: pyjwt>=1.7.0 in /usr/local/lib/python3.11/dist-packages (from databricks-cli<1,>=0.8.7->mlflow==2.7.1) (2.10.1)\n",
            "Requirement already satisfied: oauthlib>=3.1.0 in /usr/local/lib/python3.11/dist-packages (from databricks-cli<1,>=0.8.7->mlflow==2.7.1) (3.3.1)\n",
            "Requirement already satisfied: tabulate>=0.7.7 in /usr/local/lib/python3.11/dist-packages (from databricks-cli<1,>=0.8.7->mlflow==2.7.1) (0.9.0)\n",
            "Requirement already satisfied: six>=1.10.0 in /usr/local/lib/python3.11/dist-packages (from databricks-cli<1,>=0.8.7->mlflow==2.7.1) (1.17.0)\n",
            "Requirement already satisfied: urllib3<3,>=1.26.7 in /usr/local/lib/python3.11/dist-packages (from databricks-cli<1,>=0.8.7->mlflow==2.7.1) (2.4.0)\n",
            "Requirement already satisfied: websocket-client>=0.32.0 in /usr/local/lib/python3.11/dist-packages (from docker<7,>=4.0.0->mlflow==2.7.1) (1.8.0)\n",
            "Requirement already satisfied: Werkzeug>=2.3.7 in /usr/local/lib/python3.11/dist-packages (from Flask<3->mlflow==2.7.1) (3.1.3)\n",
            "Requirement already satisfied: itsdangerous>=2.1.2 in /usr/local/lib/python3.11/dist-packages (from Flask<3->mlflow==2.7.1) (2.2.0)\n",
            "Requirement already satisfied: blinker>=1.6.2 in /usr/local/lib/python3.11/dist-packages (from Flask<3->mlflow==2.7.1) (1.9.0)\n",
            "Requirement already satisfied: gitdb<5,>=4.0.1 in /usr/local/lib/python3.11/dist-packages (from gitpython<4,>=2.1.0->mlflow==2.7.1) (4.0.12)\n",
            "Requirement already satisfied: zipp>=0.5 in /usr/local/lib/python3.11/dist-packages (from importlib-metadata!=4.7.0,<7,>=3.7.0->mlflow==2.7.1) (3.23.0)\n",
            "Requirement already satisfied: MarkupSafe>=2.0 in /usr/local/lib/python3.11/dist-packages (from Jinja2<4,>=2.11->mlflow==2.7.1) (3.0.2)\n",
            "Requirement already satisfied: contourpy>=1.0.1 in /usr/local/lib/python3.11/dist-packages (from matplotlib<4->mlflow==2.7.1) (1.3.2)\n",
            "Requirement already satisfied: cycler>=0.10 in /usr/local/lib/python3.11/dist-packages (from matplotlib<4->mlflow==2.7.1) (0.12.1)\n",
            "Requirement already satisfied: fonttools>=4.22.0 in /usr/local/lib/python3.11/dist-packages (from matplotlib<4->mlflow==2.7.1) (4.58.4)\n",
            "Requirement already satisfied: kiwisolver>=1.3.1 in /usr/local/lib/python3.11/dist-packages (from matplotlib<4->mlflow==2.7.1) (1.4.8)\n",
            "Requirement already satisfied: pillow>=8 in /usr/local/lib/python3.11/dist-packages (from matplotlib<4->mlflow==2.7.1) (11.2.1)\n",
            "Requirement already satisfied: pyparsing>=2.3.1 in /usr/local/lib/python3.11/dist-packages (from matplotlib<4->mlflow==2.7.1) (3.2.3)\n",
            "Requirement already satisfied: python-dateutil>=2.7 in /usr/local/lib/python3.11/dist-packages (from matplotlib<4->mlflow==2.7.1) (2.9.0.post0)\n",
            "Requirement already satisfied: tzdata>=2022.7 in /usr/local/lib/python3.11/dist-packages (from pandas<3->mlflow==2.7.1) (2025.2)\n",
            "Requirement already satisfied: charset-normalizer<4,>=2 in /usr/local/lib/python3.11/dist-packages (from requests<3,>=2.17.3->mlflow==2.7.1) (3.4.2)\n",
            "Requirement already satisfied: idna<4,>=2.5 in /usr/local/lib/python3.11/dist-packages (from requests<3,>=2.17.3->mlflow==2.7.1) (3.10)\n",
            "Requirement already satisfied: certifi>=2017.4.17 in /usr/local/lib/python3.11/dist-packages (from requests<3,>=2.17.3->mlflow==2.7.1) (2025.6.15)\n",
            "Requirement already satisfied: joblib>=1.2.0 in /usr/local/lib/python3.11/dist-packages (from scikit-learn<2->mlflow==2.7.1) (1.5.1)\n",
            "Requirement already satisfied: threadpoolctl>=3.1.0 in /usr/local/lib/python3.11/dist-packages (from scikit-learn<2->mlflow==2.7.1) (3.6.0)\n",
            "Requirement already satisfied: greenlet>=1 in /usr/local/lib/python3.11/dist-packages (from sqlalchemy<3,>=1.4.0->mlflow==2.7.1) (3.2.3)\n",
            "Requirement already satisfied: smmap<6,>=3.0.1 in /usr/local/lib/python3.11/dist-packages (from gitdb<5,>=4.0.1->gitpython<4,>=2.1.0->mlflow==2.7.1) (5.0.2)\n"
          ]
        }
      ]
    },
    {
      "cell_type": "code",
      "source": [
        "import dagshub\n",
        "# Try to get credentials from environment first\n",
        "dagshub.init(\n",
        "    repo_owner='abarb22',\n",
        "    repo_name='Walmart-Recruiting---Store-Sales-Forecasting',\n",
        "    mlflow=True\n",
        ")"
      ],
      "metadata": {
        "id": "26gLz9xCSEt7",
        "outputId": "a97d8941-a1e2-477c-892b-a0f1f8a17c97",
        "colab": {
          "base_uri": "https://localhost:8080/",
          "height": 208,
          "referenced_widgets": [
            "5482963be477498ba937433e78043560",
            "603169b58c014034acb6846dcd376072"
          ]
        }
      },
      "execution_count": 27,
      "outputs": [
        {
          "output_type": "display_data",
          "data": {
            "text/plain": [
              "                                       \u001b[1m❗❗❗ AUTHORIZATION REQUIRED ❗❗❗\u001b[0m                                        \n"
            ],
            "text/html": [
              "<pre style=\"white-space:pre;overflow-x:auto;line-height:normal;font-family:Menlo,'DejaVu Sans Mono',consolas,'Courier New',monospace\">                                       <span style=\"font-weight: bold\">❗❗❗ AUTHORIZATION REQUIRED ❗❗❗</span>                                        \n",
              "</pre>\n"
            ]
          },
          "metadata": {}
        },
        {
          "output_type": "display_data",
          "data": {
            "text/plain": [
              "Output()"
            ],
            "application/vnd.jupyter.widget-view+json": {
              "version_major": 2,
              "version_minor": 0,
              "model_id": "5482963be477498ba937433e78043560"
            }
          },
          "metadata": {}
        },
        {
          "output_type": "stream",
          "name": "stdout",
          "text": [
            "\n",
            "\n",
            "Open the following link in your browser to authorize the client:\n",
            "https://dagshub.com/login/oauth/authorize?state=812522d3-30ea-4ac8-bf67-68ea0039c902&client_id=32b60ba385aa7cecf24046d8195a71c07dd345d9657977863b52e7748e0f0f28&middleman_request_id=d2a8217de374f01cf4740237fcbbd3010ac4e7322c7150a0ef1de3dc8b72032c\n",
            "\n",
            "\n"
          ]
        },
        {
          "output_type": "display_data",
          "data": {
            "text/plain": [],
            "text/html": [
              "<pre style=\"white-space:pre;overflow-x:auto;line-height:normal;font-family:Menlo,'DejaVu Sans Mono',consolas,'Courier New',monospace\"></pre>\n"
            ]
          },
          "metadata": {}
        },
        {
          "output_type": "display_data",
          "data": {
            "text/plain": [
              "Accessing as alaki22\n"
            ],
            "text/html": [
              "<pre style=\"white-space:pre;overflow-x:auto;line-height:normal;font-family:Menlo,'DejaVu Sans Mono',consolas,'Courier New',monospace\">Accessing as alaki22\n",
              "</pre>\n"
            ]
          },
          "metadata": {}
        },
        {
          "output_type": "display_data",
          "data": {
            "text/plain": [
              "Initialized MLflow to track repo \u001b[32m\"abarb22/Walmart-Recruiting---Store-Sales-Forecasting\"\u001b[0m\n"
            ],
            "text/html": [
              "<pre style=\"white-space:pre;overflow-x:auto;line-height:normal;font-family:Menlo,'DejaVu Sans Mono',consolas,'Courier New',monospace\">Initialized MLflow to track repo <span style=\"color: #008000; text-decoration-color: #008000\">\"abarb22/Walmart-Recruiting---Store-Sales-Forecasting\"</span>\n",
              "</pre>\n"
            ]
          },
          "metadata": {}
        },
        {
          "output_type": "display_data",
          "data": {
            "text/plain": [
              "Repository abarb22/Walmart-Recruiting---Store-Sales-Forecasting initialized!\n"
            ],
            "text/html": [
              "<pre style=\"white-space:pre;overflow-x:auto;line-height:normal;font-family:Menlo,'DejaVu Sans Mono',consolas,'Courier New',monospace\">Repository abarb22/Walmart-Recruiting---Store-Sales-Forecasting initialized!\n",
              "</pre>\n"
            ]
          },
          "metadata": {}
        }
      ]
    },
    {
      "cell_type": "code",
      "source": [
        "class ModelTrainer:\n",
        "    def __init__(self, model, train_loader, val_loader, sales_mean, sales_std,\n",
        "                 lr=1e-3, num_epochs=100, use_wmae_loss=False):\n",
        "        # Remove val_weights and train_weights from __init__\n",
        "        self.model = model.to(device)\n",
        "        self.train_loader = train_loader\n",
        "        self.val_loader = val_loader\n",
        "        self.sales_mean = sales_mean\n",
        "        self.sales_std = sales_std\n",
        "        self.lr = lr\n",
        "        self.num_epochs = num_epochs\n",
        "        self.use_wmae_loss = use_wmae_loss\n",
        "\n",
        "        # Loss function\n",
        "        if use_wmae_loss:\n",
        "            self.criterion = self.weighted_mae_loss\n",
        "        else:\n",
        "            self.criterion = nn.MSELoss()\n",
        "\n",
        "        self.optimizer = torch.optim.Adam(self.model.parameters(), lr=self.lr)\n",
        "        self.train_losses = []\n",
        "        self.val_losses = []\n",
        "        self.val_wmaes = []\n",
        "        self.val_preds = []\n",
        "        self.val_targets = []\n",
        "        self.val_weights_used = []\n",
        "\n",
        "    def weighted_mae_loss(self, y_pred, y_true, weights):\n",
        "\n",
        "      return torch.mean(weights * torch.abs(y_pred - y_true))\n",
        "\n",
        "    def train(self):\n",
        "      for epoch in range(self.num_epochs):\n",
        "          self.model.train()\n",
        "          running_train_loss = 0.0\n",
        "          train_samples = 0\n",
        "\n",
        "          for batch_data in self.train_loader:\n",
        "              if len(batch_data) == 3:  # (x, y, weights)\n",
        "                  x_batch, y_batch, weights_batch = batch_data\n",
        "                  weights_batch = weights_batch.to(device)\n",
        "              else:  # (x, y)\n",
        "                  x_batch, y_batch = batch_data\n",
        "                  weights_batch = None\n",
        "\n",
        "              x_batch, y_batch = x_batch.to(device), y_batch.to(device)\n",
        "              self.optimizer.zero_grad()\n",
        "              output = self.model(x_batch).squeeze()\n",
        "\n",
        "              if self.use_wmae_loss and weights_batch is not None:\n",
        "                  loss = self.weighted_mae_loss(output, y_batch, weights_batch)\n",
        "              else:\n",
        "                  loss = self.criterion(output, y_batch)  # Default MSE/MAE\n",
        "\n",
        "              loss.backward()\n",
        "              self.optimizer.step()\n",
        "              running_train_loss += loss.item() * x_batch.size(0)\n",
        "              train_samples += x_batch.size(0)\n",
        "\n",
        "    def _validate(self):\n",
        "        \"\"\"Updated validation method\"\"\"\n",
        "        self.model.eval()\n",
        "        running_val_loss = 0.0\n",
        "        val_samples = 0\n",
        "        self.val_preds.clear()\n",
        "        self.val_targets.clear()\n",
        "        self.val_weights_used.clear()\n",
        "\n",
        "        with torch.no_grad():\n",
        "            for batch_data in self.val_loader:\n",
        "                if len(batch_data) == 3:  # x, y, weights\n",
        "                    x_batch, y_batch, weights_batch = batch_data\n",
        "                    x_batch = x_batch.to(device)\n",
        "                    y_batch = y_batch.to(device).squeeze()\n",
        "                    weights_batch = weights_batch.squeeze()\n",
        "                else:  # x, y only\n",
        "                    x_batch, y_batch = batch_data\n",
        "                    x_batch, y_batch = x_batch.to(device), y_batch.to(device).squeeze()\n",
        "                    weights_batch = torch.ones_like(y_batch)  # Default weights\n",
        "\n",
        "                output = self.model(x_batch)\n",
        "\n",
        "                # Regular loss for tracking\n",
        "                loss = nn.MSELoss()(output.squeeze(), y_batch)\n",
        "                running_val_loss += loss.item() * x_batch.size(0)\n",
        "                val_samples += x_batch.size(0)\n",
        "\n",
        "                # Store predictions, targets, and weights\n",
        "                self.val_preds.extend(output.squeeze().cpu().numpy())\n",
        "                self.val_targets.extend(y_batch.cpu().numpy())\n",
        "                self.val_weights_used.extend(weights_batch.cpu().numpy())\n",
        "\n",
        "        val_loss = running_val_loss / val_samples\n",
        "        val_wmae = self._calculate_wmae()\n",
        "\n",
        "        return val_loss, val_wmae"
      ],
      "metadata": {
        "id": "HGeBbvQhFKHw"
      },
      "execution_count": 66,
      "outputs": []
    },
    {
      "cell_type": "code",
      "source": [
        "import mlflow\n",
        "\n",
        "\n",
        "# Option 2: Create a new model instance for the second run\n",
        "model_2 = NBeatsNet(input_size=lookback_window)\n",
        "\n",
        "trainer_2 = ModelTrainer(\n",
        "    model=model_2,\n",
        "    train_loader=train_loader,\n",
        "    val_loader=val_loader,\n",
        "    sales_mean=sales_mean,\n",
        "    sales_std=sales_std,\n",
        "    lr=1e-3,\n",
        "    num_epochs=100,\n",
        "    use_wmae_loss=True\n",
        ")\n",
        "\n",
        "mlflow.set_experiment(\"N-BEATS_Training\")\n",
        "\n",
        "with mlflow.start_run(run_name=f\"N-BEATS_HyperParameter_Tuning\"):\n",
        "    trainer_2.train()\n",
        "    wmae = trainer_2.evaluate()\n",
        "\n",
        "    mlflow.log_param(\"lookback_window\", lookback_window)\n",
        "    mlflow.log_param(\"epochs\", trainer_2.num_epochs)\n",
        "    mlflow.log_param(\"batch_size\", 32)\n",
        "    mlflow.log_metric(\"val_wmae\", wmae)\n",
        "    mlflow.log_metric(\"val_loss\", trainer_2.val_losses[-1])\n",
        "\n",
        "    # Log loss plot\n",
        "    plot_path = f\"loss_plot.png\"\n",
        "    trainer_2.plot_losses(save_path=plot_path)\n",
        "    mlflow.log_artifact(plot_path)\n",
        "\n",
        "    # Log trained model\n",
        "    mlflow.pytorch.log_model(trainer_2.model, artifact_path=\"model\")"
      ],
      "metadata": {
        "id": "y2X9rkP2FRVc"
      },
      "execution_count": null,
      "outputs": []
    }
  ]
}